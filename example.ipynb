{
  "nbformat": 4,
  "nbformat_minor": 0,
  "metadata": {
    "colab": {
      "provenance": [],
      "authorship_tag": "ABX9TyNMCm39nQMm4lvLDF+o9rDp",
      "include_colab_link": true
    },
    "kernelspec": {
      "name": "python3",
      "display_name": "Python 3"
    },
    "language_info": {
      "name": "python"
    }
  },
  "cells": [
    {
      "cell_type": "markdown",
      "metadata": {
        "id": "view-in-github",
        "colab_type": "text"
      },
      "source": [
        "<a href=\"https://colab.research.google.com/github/VaishnaviP0707/Python/blob/main/example.ipynb\" target=\"_parent\"><img src=\"https://colab.research.google.com/assets/colab-badge.svg\" alt=\"Open In Colab\"/></a>"
      ]
    },
    {
      "cell_type": "code",
      "execution_count": 1,
      "metadata": {
        "id": "FnAcFH95yKIe"
      },
      "outputs": [],
      "source": [
        "import numpy as np\n",
        "import pandas as pd\n",
        "import matplotlib.pyplot as plt"
      ]
    },
    {
      "cell_type": "code",
      "source": [
        "data = {\n",
        "    'Country': ['France', 'Spain', 'Germany', 'Spain', 'Germany', 'France', 'Spain', 'France', 'Germany', 'France'],\n",
        "    'Colour': ['Red', 'Yellow', 'Blue', 'Pink', 'Green', 'Red', 'Yellow', 'Blue', 'Pink', 'Green'],\n",
        "    'Age': [44, 27, 30, 38, 40, 35, None, 48, 50, 37],\n",
        "    'Salary': [72000, 48000, 54000, 61000, None, 58000, 52000, 79000, 83000, 67000],\n",
        "    'Purchased': ['No', 'Yes', 'No', 'No', 'Yes', 'Yes', 'No', 'Yes', 'No', 'Yes']\n",
        "}\n",
        "\n",
        "# Create a DataFrame from the data\n",
        "df = pd.DataFrame(data)\n",
        "\n",
        "# Print the DataFrame\n",
        "print(df)"
      ],
      "metadata": {
        "colab": {
          "base_uri": "https://localhost:8080/"
        },
        "id": "_Tg045_eyVPE",
        "outputId": "2f777980-ab64-449b-96a8-8e2d4f14b22e"
      },
      "execution_count": 11,
      "outputs": [
        {
          "output_type": "stream",
          "name": "stdout",
          "text": [
            "   Country  Colour   Age   Salary Purchased\n",
            "0   France     Red  44.0  72000.0        No\n",
            "1    Spain  Yellow  27.0  48000.0       Yes\n",
            "2  Germany    Blue  30.0  54000.0        No\n",
            "3    Spain    Pink  38.0  61000.0        No\n",
            "4  Germany   Green  40.0      NaN       Yes\n",
            "5   France     Red  35.0  58000.0       Yes\n",
            "6    Spain  Yellow   NaN  52000.0        No\n",
            "7   France    Blue  48.0  79000.0       Yes\n",
            "8  Germany    Pink  50.0  83000.0        No\n",
            "9   France   Green  37.0  67000.0       Yes\n"
          ]
        }
      ]
    },
    {
      "cell_type": "code",
      "source": [
        "X = df.iloc[:, :-1].values\n",
        "y = df.iloc[:, -1].values"
      ],
      "metadata": {
        "id": "R4QObuOmy9mr"
      },
      "execution_count": 12,
      "outputs": []
    },
    {
      "cell_type": "code",
      "source": [
        "X"
      ],
      "metadata": {
        "colab": {
          "base_uri": "https://localhost:8080/"
        },
        "id": "-QXD_MXQzJZM",
        "outputId": "6f7964bb-7794-4e07-e006-06f422463c7b"
      },
      "execution_count": 13,
      "outputs": [
        {
          "output_type": "execute_result",
          "data": {
            "text/plain": [
              "array([['France', 'Red', 44.0, 72000.0],\n",
              "       ['Spain', 'Yellow', 27.0, 48000.0],\n",
              "       ['Germany', 'Blue', 30.0, 54000.0],\n",
              "       ['Spain', 'Pink', 38.0, 61000.0],\n",
              "       ['Germany', 'Green', 40.0, nan],\n",
              "       ['France', 'Red', 35.0, 58000.0],\n",
              "       ['Spain', 'Yellow', nan, 52000.0],\n",
              "       ['France', 'Blue', 48.0, 79000.0],\n",
              "       ['Germany', 'Pink', 50.0, 83000.0],\n",
              "       ['France', 'Green', 37.0, 67000.0]], dtype=object)"
            ]
          },
          "metadata": {},
          "execution_count": 13
        }
      ]
    },
    {
      "cell_type": "code",
      "source": [
        "y"
      ],
      "metadata": {
        "colab": {
          "base_uri": "https://localhost:8080/"
        },
        "id": "bnWrpvwn2Opf",
        "outputId": "4031cf4f-9839-404a-8988-a05ad9bbf683"
      },
      "execution_count": 14,
      "outputs": [
        {
          "output_type": "execute_result",
          "data": {
            "text/plain": [
              "array(['No', 'Yes', 'No', 'No', 'Yes', 'Yes', 'No', 'Yes', 'No', 'Yes'],\n",
              "      dtype=object)"
            ]
          },
          "metadata": {},
          "execution_count": 14
        }
      ]
    },
    {
      "cell_type": "code",
      "source": [
        "from sklearn.impute import SimpleImputer\n",
        "imputer = SimpleImputer(missing_values=np.nan, strategy='mean')\n",
        "imputer.fit(X[:, 2:4])\n",
        "X[:, 2:4] = imputer.transform(X[:, 2:4])\n",
        "X"
      ],
      "metadata": {
        "colab": {
          "base_uri": "https://localhost:8080/"
        },
        "id": "IwhpcP9g2cW9",
        "outputId": "beb0f806-a46c-4262-8ce1-75b1368daac3"
      },
      "execution_count": 16,
      "outputs": [
        {
          "output_type": "execute_result",
          "data": {
            "text/plain": [
              "array([['France', 'Red', 44.0, 72000.0],\n",
              "       ['Spain', 'Yellow', 27.0, 48000.0],\n",
              "       ['Germany', 'Blue', 30.0, 54000.0],\n",
              "       ['Spain', 'Pink', 38.0, 61000.0],\n",
              "       ['Germany', 'Green', 40.0, 63777.77777777778],\n",
              "       ['France', 'Red', 35.0, 58000.0],\n",
              "       ['Spain', 'Yellow', 38.77777777777778, 52000.0],\n",
              "       ['France', 'Blue', 48.0, 79000.0],\n",
              "       ['Germany', 'Pink', 50.0, 83000.0],\n",
              "       ['France', 'Green', 37.0, 67000.0]], dtype=object)"
            ]
          },
          "metadata": {},
          "execution_count": 16
        }
      ]
    },
    {
      "cell_type": "code",
      "source": [
        "from sklearn.compose import ColumnTransformer\n",
        "from sklearn.preprocessing import StandardScaler, OneHotEncoder\n",
        "from sklearn.pipeline import Pipeline\n",
        "import numpy as np\n",
        "\n",
        "# Sample data\n",
        "data = np.array([[1, 'red', 10],\n",
        "                 [2, 'green', 20],\n",
        "                 [3, 'blue', 30]])\n",
        "\n",
        "# Define transformers for numerical and categorical columns\n",
        "numeric_transformer = Pipeline(steps=[\n",
        "    ('scaler', StandardScaler())\n",
        "])\n",
        "\n",
        "categorical_transformer = Pipeline(steps=[\n",
        "    ('onehot', OneHotEncoder())\n",
        "])\n",
        "\n",
        "# Specify which columns should be processed by which transformers\n",
        "preprocessor = ColumnTransformer(\n",
        "    transformers=[\n",
        "        ('num', numeric_transformer, [0, 2]),  # apply scaler to columns 0 and 2\n",
        "        ('cat', categorical_transformer, [1])  # apply one-hot encoder to column 1\n",
        "    ])\n",
        "\n",
        "# Apply transformations\n",
        "transformed_data = preprocessor.fit_transform(data)\n",
        "print(transformed_data)"
      ],
      "metadata": {
        "colab": {
          "base_uri": "https://localhost:8080/"
        },
        "id": "Z106Ee2fBwaT",
        "outputId": "d93d6e58-5a57-4c7b-e292-964ca014323f"
      },
      "execution_count": 9,
      "outputs": [
        {
          "output_type": "stream",
          "name": "stdout",
          "text": [
            "[[-1.22474487 -1.22474487  0.          0.          1.        ]\n",
            " [ 0.          0.          0.          1.          0.        ]\n",
            " [ 1.22474487  1.22474487  1.          0.          0.        ]]\n"
          ]
        }
      ]
    },
    {
      "cell_type": "code",
      "source": [
        "from sklearn.preprocessing import OneHotEncoder\n",
        "import numpy as np\n",
        "\n",
        "# Sample categorical data\n",
        "data = np.array([['red'], ['green'], ['blue'], ['red'], ['blue']])\n",
        "\n",
        "# Create the OneHotEncoder object\n",
        "encoder = OneHotEncoder()\n",
        "\n",
        "# Fit and transform the data\n",
        "one_hot_encoded_data = encoder.fit_transform(data)\n",
        "\n",
        "# Print the one-hot encoded data\n",
        "print(one_hot_encoded_data.toarray())"
      ],
      "metadata": {
        "colab": {
          "base_uri": "https://localhost:8080/"
        },
        "id": "YxZFM33ACrk-",
        "outputId": "676e669f-6a1f-4e6d-cf0a-932ee5e5b8d6"
      },
      "execution_count": 11,
      "outputs": [
        {
          "output_type": "stream",
          "name": "stdout",
          "text": [
            "[[0. 0. 1.]\n",
            " [0. 1. 0.]\n",
            " [1. 0. 0.]\n",
            " [0. 0. 1.]\n",
            " [1. 0. 0.]]\n"
          ]
        }
      ]
    },
    {
      "cell_type": "code",
      "source": [],
      "metadata": {
        "id": "vN1cYZbF5Rma"
      },
      "execution_count": null,
      "outputs": []
    }
  ]
}